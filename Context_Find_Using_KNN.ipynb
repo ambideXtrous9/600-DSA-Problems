{
  "nbformat": 4,
  "nbformat_minor": 0,
  "metadata": {
    "colab": {
      "provenance": [],
      "authorship_tag": "ABX9TyOyeqVEomouFNqQ6tVx+CdQ",
      "include_colab_link": true
    },
    "kernelspec": {
      "name": "python3",
      "display_name": "Python 3"
    },
    "language_info": {
      "name": "python"
    }
  },
  "cells": [
    {
      "cell_type": "markdown",
      "metadata": {
        "id": "view-in-github",
        "colab_type": "text"
      },
      "source": [
        "<a href=\"https://colab.research.google.com/github/ambideXtrous9/600-DSA-Problems/blob/main/Context_Find_Using_KNN.ipynb\" target=\"_parent\"><img src=\"https://colab.research.google.com/assets/colab-badge.svg\" alt=\"Open In Colab\"/></a>"
      ]
    },
    {
      "cell_type": "code",
      "execution_count": 15,
      "metadata": {
        "id": "WrrUNaGjV3oC"
      },
      "outputs": [],
      "source": [
        "import json\n",
        "import pandas as pd\n",
        "import numpy as np\n",
        "from pathlib import Path\n",
        "from sklearn.feature_extraction.text import TfidfVectorizer\n",
        "from sklearn.neighbors import NearestNeighbors\n",
        "from sklearn.metrics.pairwise import cosine_similarity"
      ]
    },
    {
      "cell_type": "code",
      "source": [
        "from google.colab import drive\n",
        "drive.mount('/content/drive')"
      ],
      "metadata": {
        "colab": {
          "base_uri": "https://localhost:8080/"
        },
        "id": "S062WkNQWA6R",
        "outputId": "4ac56977-8517-4575-e61c-e172074d0406"
      },
      "execution_count": 3,
      "outputs": [
        {
          "output_type": "stream",
          "name": "stdout",
          "text": [
            "Mounted at /content/drive\n"
          ]
        }
      ]
    },
    {
      "cell_type": "code",
      "source": [
        "path = '/content/drive/MyDrive/MTP CODE/NewsQA_SPAN.feather'"
      ],
      "metadata": {
        "id": "MOEkZzXkWCiL"
      },
      "execution_count": 77,
      "outputs": []
    },
    {
      "cell_type": "code",
      "source": [
        "df = pd.read_feather(path)\n",
        "df"
      ],
      "metadata": {
        "colab": {
          "base_uri": "https://localhost:8080/",
          "height": 423
        },
        "id": "8I_Fgu1-WDKB",
        "outputId": "41869779-e12a-41f0-aa81-65fc2383446b"
      },
      "execution_count": 104,
      "outputs": [
        {
          "output_type": "execute_result",
          "data": {
            "text/plain": [
              "                                                 question  \\\n",
              "0       Who is the managing director of Synergee Capital?   \n",
              "1       What is the yield of 30- and 40-year governmen...   \n",
              "2       What is the name of the ETF 2027 that a conser...   \n",
              "3       When would a conservative fixed income investo...   \n",
              "4       What year would a conservative fixed income in...   \n",
              "...                                                   ...   \n",
              "481753  When does Uncle Sam reopen for fully vaccinate...   \n",
              "481754  When will there be three more weekly flights b...   \n",
              "481755  What type of 777s would have helped AI have mo...   \n",
              "481756            What was the first wave of AI nonstops?   \n",
              "481757  Before the second wave, AI had about 40 weekly...   \n",
              "\n",
              "                              answer     ans_pos  \\\n",
              "0                       Vikram Dalal  [133, 145]   \n",
              "1                                 7%  [565, 567]   \n",
              "2                                SDL  [209, 212]   \n",
              "3                               2027  [217, 221]   \n",
              "4                               2040  [260, 264]   \n",
              "...                              ...         ...   \n",
              "481753                    November 8  [295, 305]   \n",
              "481754  from second week of November  [116, 144]   \n",
              "481755                        Boeing  [306, 312]   \n",
              "481756                        second    [11, 17]   \n",
              "481757                            US    [59, 61]   \n",
              "\n",
              "                                                paragraph  answer_start  \\\n",
              "0        \"Investors can use a combination of governmen...           133   \n",
              "1        \"Investors can use a combination of governmen...           565   \n",
              "2        According to financial planners, an example o...           209   \n",
              "3        According to financial planners, an example o...           217   \n",
              "4        According to financial planners, an example o...           260   \n",
              "...                                                   ...           ...   \n",
              "481753  NEW DELHI: This could be the last expansion of...           295   \n",
              "481754  It currently has 23 weekly flights to America....           116   \n",
              "481755  It currently has 23 weekly flights to America....           306   \n",
              "481756  Before the second wave this summer, AI had abo...            11   \n",
              "481757  Before the second wave this summer, AI had abo...            59   \n",
              "\n",
              "        answer_end  \n",
              "0              145  \n",
              "1              567  \n",
              "2              212  \n",
              "3              221  \n",
              "4              264  \n",
              "...            ...  \n",
              "481753         305  \n",
              "481754         144  \n",
              "481755         312  \n",
              "481756          17  \n",
              "481757          61  \n",
              "\n",
              "[481758 rows x 6 columns]"
            ],
            "text/html": [
              "\n",
              "  <div id=\"df-1f2551a3-f51d-46aa-93cf-6a64e8712f95\">\n",
              "    <div class=\"colab-df-container\">\n",
              "      <div>\n",
              "<style scoped>\n",
              "    .dataframe tbody tr th:only-of-type {\n",
              "        vertical-align: middle;\n",
              "    }\n",
              "\n",
              "    .dataframe tbody tr th {\n",
              "        vertical-align: top;\n",
              "    }\n",
              "\n",
              "    .dataframe thead th {\n",
              "        text-align: right;\n",
              "    }\n",
              "</style>\n",
              "<table border=\"1\" class=\"dataframe\">\n",
              "  <thead>\n",
              "    <tr style=\"text-align: right;\">\n",
              "      <th></th>\n",
              "      <th>question</th>\n",
              "      <th>answer</th>\n",
              "      <th>ans_pos</th>\n",
              "      <th>paragraph</th>\n",
              "      <th>answer_start</th>\n",
              "      <th>answer_end</th>\n",
              "    </tr>\n",
              "  </thead>\n",
              "  <tbody>\n",
              "    <tr>\n",
              "      <th>0</th>\n",
              "      <td>Who is the managing director of Synergee Capital?</td>\n",
              "      <td>Vikram Dalal</td>\n",
              "      <td>[133, 145]</td>\n",
              "      <td>\"Investors can use a combination of governmen...</td>\n",
              "      <td>133</td>\n",
              "      <td>145</td>\n",
              "    </tr>\n",
              "    <tr>\n",
              "      <th>1</th>\n",
              "      <td>What is the yield of 30- and 40-year governmen...</td>\n",
              "      <td>7%</td>\n",
              "      <td>[565, 567]</td>\n",
              "      <td>\"Investors can use a combination of governmen...</td>\n",
              "      <td>565</td>\n",
              "      <td>567</td>\n",
              "    </tr>\n",
              "    <tr>\n",
              "      <th>2</th>\n",
              "      <td>What is the name of the ETF 2027 that a conser...</td>\n",
              "      <td>SDL</td>\n",
              "      <td>[209, 212]</td>\n",
              "      <td>According to financial planners, an example o...</td>\n",
              "      <td>209</td>\n",
              "      <td>212</td>\n",
              "    </tr>\n",
              "    <tr>\n",
              "      <th>3</th>\n",
              "      <td>When would a conservative fixed income investo...</td>\n",
              "      <td>2027</td>\n",
              "      <td>[217, 221]</td>\n",
              "      <td>According to financial planners, an example o...</td>\n",
              "      <td>217</td>\n",
              "      <td>221</td>\n",
              "    </tr>\n",
              "    <tr>\n",
              "      <th>4</th>\n",
              "      <td>What year would a conservative fixed income in...</td>\n",
              "      <td>2040</td>\n",
              "      <td>[260, 264]</td>\n",
              "      <td>According to financial planners, an example o...</td>\n",
              "      <td>260</td>\n",
              "      <td>264</td>\n",
              "    </tr>\n",
              "    <tr>\n",
              "      <th>...</th>\n",
              "      <td>...</td>\n",
              "      <td>...</td>\n",
              "      <td>...</td>\n",
              "      <td>...</td>\n",
              "      <td>...</td>\n",
              "      <td>...</td>\n",
              "    </tr>\n",
              "    <tr>\n",
              "      <th>481753</th>\n",
              "      <td>When does Uncle Sam reopen for fully vaccinate...</td>\n",
              "      <td>November 8</td>\n",
              "      <td>[295, 305]</td>\n",
              "      <td>NEW DELHI: This could be the last expansion of...</td>\n",
              "      <td>295</td>\n",
              "      <td>305</td>\n",
              "    </tr>\n",
              "    <tr>\n",
              "      <th>481754</th>\n",
              "      <td>When will there be three more weekly flights b...</td>\n",
              "      <td>from second week of November</td>\n",
              "      <td>[116, 144]</td>\n",
              "      <td>It currently has 23 weekly flights to America....</td>\n",
              "      <td>116</td>\n",
              "      <td>144</td>\n",
              "    </tr>\n",
              "    <tr>\n",
              "      <th>481755</th>\n",
              "      <td>What type of 777s would have helped AI have mo...</td>\n",
              "      <td>Boeing</td>\n",
              "      <td>[306, 312]</td>\n",
              "      <td>It currently has 23 weekly flights to America....</td>\n",
              "      <td>306</td>\n",
              "      <td>312</td>\n",
              "    </tr>\n",
              "    <tr>\n",
              "      <th>481756</th>\n",
              "      <td>What was the first wave of AI nonstops?</td>\n",
              "      <td>second</td>\n",
              "      <td>[11, 17]</td>\n",
              "      <td>Before the second wave this summer, AI had abo...</td>\n",
              "      <td>11</td>\n",
              "      <td>17</td>\n",
              "    </tr>\n",
              "    <tr>\n",
              "      <th>481757</th>\n",
              "      <td>Before the second wave, AI had about 40 weekly...</td>\n",
              "      <td>US</td>\n",
              "      <td>[59, 61]</td>\n",
              "      <td>Before the second wave this summer, AI had abo...</td>\n",
              "      <td>59</td>\n",
              "      <td>61</td>\n",
              "    </tr>\n",
              "  </tbody>\n",
              "</table>\n",
              "<p>481758 rows × 6 columns</p>\n",
              "</div>\n",
              "      <button class=\"colab-df-convert\" onclick=\"convertToInteractive('df-1f2551a3-f51d-46aa-93cf-6a64e8712f95')\"\n",
              "              title=\"Convert this dataframe to an interactive table.\"\n",
              "              style=\"display:none;\">\n",
              "        \n",
              "  <svg xmlns=\"http://www.w3.org/2000/svg\" height=\"24px\"viewBox=\"0 0 24 24\"\n",
              "       width=\"24px\">\n",
              "    <path d=\"M0 0h24v24H0V0z\" fill=\"none\"/>\n",
              "    <path d=\"M18.56 5.44l.94 2.06.94-2.06 2.06-.94-2.06-.94-.94-2.06-.94 2.06-2.06.94zm-11 1L8.5 8.5l.94-2.06 2.06-.94-2.06-.94L8.5 2.5l-.94 2.06-2.06.94zm10 10l.94 2.06.94-2.06 2.06-.94-2.06-.94-.94-2.06-.94 2.06-2.06.94z\"/><path d=\"M17.41 7.96l-1.37-1.37c-.4-.4-.92-.59-1.43-.59-.52 0-1.04.2-1.43.59L10.3 9.45l-7.72 7.72c-.78.78-.78 2.05 0 2.83L4 21.41c.39.39.9.59 1.41.59.51 0 1.02-.2 1.41-.59l7.78-7.78 2.81-2.81c.8-.78.8-2.07 0-2.86zM5.41 20L4 18.59l7.72-7.72 1.47 1.35L5.41 20z\"/>\n",
              "  </svg>\n",
              "      </button>\n",
              "      \n",
              "  <style>\n",
              "    .colab-df-container {\n",
              "      display:flex;\n",
              "      flex-wrap:wrap;\n",
              "      gap: 12px;\n",
              "    }\n",
              "\n",
              "    .colab-df-convert {\n",
              "      background-color: #E8F0FE;\n",
              "      border: none;\n",
              "      border-radius: 50%;\n",
              "      cursor: pointer;\n",
              "      display: none;\n",
              "      fill: #1967D2;\n",
              "      height: 32px;\n",
              "      padding: 0 0 0 0;\n",
              "      width: 32px;\n",
              "    }\n",
              "\n",
              "    .colab-df-convert:hover {\n",
              "      background-color: #E2EBFA;\n",
              "      box-shadow: 0px 1px 2px rgba(60, 64, 67, 0.3), 0px 1px 3px 1px rgba(60, 64, 67, 0.15);\n",
              "      fill: #174EA6;\n",
              "    }\n",
              "\n",
              "    [theme=dark] .colab-df-convert {\n",
              "      background-color: #3B4455;\n",
              "      fill: #D2E3FC;\n",
              "    }\n",
              "\n",
              "    [theme=dark] .colab-df-convert:hover {\n",
              "      background-color: #434B5C;\n",
              "      box-shadow: 0px 1px 3px 1px rgba(0, 0, 0, 0.15);\n",
              "      filter: drop-shadow(0px 1px 2px rgba(0, 0, 0, 0.3));\n",
              "      fill: #FFFFFF;\n",
              "    }\n",
              "  </style>\n",
              "\n",
              "      <script>\n",
              "        const buttonEl =\n",
              "          document.querySelector('#df-1f2551a3-f51d-46aa-93cf-6a64e8712f95 button.colab-df-convert');\n",
              "        buttonEl.style.display =\n",
              "          google.colab.kernel.accessAllowed ? 'block' : 'none';\n",
              "\n",
              "        async function convertToInteractive(key) {\n",
              "          const element = document.querySelector('#df-1f2551a3-f51d-46aa-93cf-6a64e8712f95');\n",
              "          const dataTable =\n",
              "            await google.colab.kernel.invokeFunction('convertToInteractive',\n",
              "                                                     [key], {});\n",
              "          if (!dataTable) return;\n",
              "\n",
              "          const docLinkHtml = 'Like what you see? Visit the ' +\n",
              "            '<a target=\"_blank\" href=https://colab.research.google.com/notebooks/data_table.ipynb>data table notebook</a>'\n",
              "            + ' to learn more about interactive tables.';\n",
              "          element.innerHTML = '';\n",
              "          dataTable['output_type'] = 'display_data';\n",
              "          await google.colab.output.renderOutput(dataTable, element);\n",
              "          const docLink = document.createElement('div');\n",
              "          docLink.innerHTML = docLinkHtml;\n",
              "          element.appendChild(docLink);\n",
              "        }\n",
              "      </script>\n",
              "    </div>\n",
              "  </div>\n",
              "  "
            ]
          },
          "metadata": {},
          "execution_count": 104
        }
      ]
    },
    {
      "cell_type": "code",
      "source": [
        "df = df.iloc[:50000]"
      ],
      "metadata": {
        "id": "SECFka7eNTPs"
      },
      "execution_count": 105,
      "outputs": []
    },
    {
      "cell_type": "code",
      "source": [
        "# vectorize text data using TfidfVectorizer\n",
        "vectorizer = TfidfVectorizer()\n",
        "X = vectorizer.fit_transform(df['question'])\n",
        "\n",
        "# train KNN model with cosine similarity metric\n",
        "k = 1\n",
        "knn = NearestNeighbors(n_neighbors=k, algorithm='brute', metric='cosine')\n",
        "knn.fit(X)"
      ],
      "metadata": {
        "colab": {
          "base_uri": "https://localhost:8080/"
        },
        "id": "yHZK1vl5WKwF",
        "outputId": "83a44fd4-49c6-474b-c1c3-4cc1a73d8789"
      },
      "execution_count": 106,
      "outputs": [
        {
          "output_type": "execute_result",
          "data": {
            "text/plain": [
              "NearestNeighbors(algorithm='brute', metric='cosine', n_neighbors=1)"
            ]
          },
          "metadata": {},
          "execution_count": 106
        }
      ]
    },
    {
      "cell_type": "markdown",
      "source": [
        "# **Accuaracy**"
      ],
      "metadata": {
        "id": "3BRyHKrkbOXc"
      }
    },
    {
      "cell_type": "code",
      "source": [
        "def predict_context(question):\n",
        "    question_vect = vectorizer.transform([question])\n",
        "    distances, indices = knn.kneighbors(question_vect)\n",
        "    top_k_contexts = df['paragraph'].iloc[indices[0]]\n",
        "    avg_similarities = top_k_contexts.apply(lambda x: cosine_similarity(question_vect, vectorizer.transform([x]))[0][0]).values\n",
        "    top_context = top_k_contexts.iloc[avg_similarities.argmax()]\n",
        "    return top_context"
      ],
      "metadata": {
        "id": "srXboxQIbjZN"
      },
      "execution_count": 107,
      "outputs": []
    },
    {
      "cell_type": "code",
      "source": [
        "def pred(idx):\n",
        "    ques = df.iloc[idx]['question']\n",
        "    print(\"Q : \", ques)\n",
        "    predicted_context = predict_context(ques)\n",
        "    print(\"Actual Context : \", df.iloc[idx]['paragraph'])\n",
        "    print(\"Predicted Context : \", predicted_context)"
      ],
      "metadata": {
        "id": "68ReftwcWPA-"
      },
      "execution_count": 108,
      "outputs": []
    },
    {
      "cell_type": "code",
      "source": [
        "predict = df['question'].apply(predict_context)"
      ],
      "metadata": {
        "id": "219ynzl-b8WC"
      },
      "execution_count": 109,
      "outputs": []
    },
    {
      "cell_type": "code",
      "source": [
        "res = (predict == df['paragraph']).value_counts()\n",
        "res"
      ],
      "metadata": {
        "colab": {
          "base_uri": "https://localhost:8080/"
        },
        "id": "oLCMWcVMNHQ1",
        "outputId": "4a61fdfd-523d-457b-9a1a-9d24d5137b11"
      },
      "execution_count": 110,
      "outputs": [
        {
          "output_type": "execute_result",
          "data": {
            "text/plain": [
              "True     48981\n",
              "False     1019\n",
              "dtype: int64"
            ]
          },
          "metadata": {},
          "execution_count": 110
        }
      ]
    },
    {
      "cell_type": "code",
      "source": [
        "accuracy = (res[True] / len(predict))*100\n",
        "accuracy"
      ],
      "metadata": {
        "colab": {
          "base_uri": "https://localhost:8080/"
        },
        "id": "VpM4Yz6QDzZo",
        "outputId": "f223d12b-1cbe-4c40-aa8c-96c244620807"
      },
      "execution_count": 111,
      "outputs": [
        {
          "output_type": "execute_result",
          "data": {
            "text/plain": [
              "97.962"
            ]
          },
          "metadata": {},
          "execution_count": 111
        }
      ]
    }
  ]
}