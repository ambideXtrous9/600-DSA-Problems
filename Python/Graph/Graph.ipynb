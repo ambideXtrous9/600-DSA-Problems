{
 "cells": [
  {
   "cell_type": "code",
   "execution_count": 1,
   "metadata": {},
   "outputs": [],
   "source": [
    "from typing import List"
   ]
  },
  {
   "cell_type": "markdown",
   "metadata": {},
   "source": [
    "### Steps:\n",
    "\n",
    "1. make a Queue and and Visited array init with False\n",
    "2. append the start node to the Queue and make it visited\n",
    "3. Until the Queue is empty:\n",
    "\n",
    "    a. pop the front elem from Q -> u (can be output here : printf)\n",
    "\n",
    "    b. explore its adjacents -> vs\n",
    "    \n",
    "    c. if v is not visited, make it visited and store in the Q."
   ]
  },
  {
   "cell_type": "code",
   "execution_count": null,
   "metadata": {},
   "outputs": [],
   "source": [
    "def BFS(n: int, adj: List[List[int]]):\n",
    "    \n",
    "    res = []\n",
    "    visited = [False] * n\n",
    "\n",
    "    Q = []\n",
    "\n",
    "    Q.append(0)\n",
    "    \n",
    "    visited[0] = True\n",
    "\n",
    "    while Q:\n",
    "\n",
    "        u = Q.pop(0)\n",
    "\n",
    "        res.append(u)\n",
    "\n",
    "        for v in adj[u]:\n",
    "\n",
    "            if not visited[v]:\n",
    "                visited[v] = True\n",
    "                Q.append(v)\n",
    "    \n",
    "    return res\n"
   ]
  },
  {
   "cell_type": "markdown",
   "metadata": {},
   "source": [
    "### Steps:\n",
    "\n",
    "1. make Visited array init to -> False\n",
    "2. start Recurion call with a init node u: DFS(visited,u)\n",
    "    \n",
    "    a. In Function make u as : visited[u] = True\n",
    "\n",
    "    b. explore all adjacents of u : vs\n",
    "\n",
    "    c. if v is not visited make Recursion call with v : DFS(visited,v)"
   ]
  },
  {
   "cell_type": "code",
   "execution_count": null,
   "metadata": {},
   "outputs": [],
   "source": [
    "def DFS(adj,u,visited,res):\n",
    "    \n",
    "    visited[u] = True\n",
    "    \n",
    "    res.append(u)\n",
    "\n",
    "    for v in adj[u]:\n",
    "        \n",
    "        if not visited[v]:\n",
    "        \n",
    "            DFS(adj,v,visited,res)\n",
    "\n",
    "def DFSTraversal(n: int, adj: List[List[int]]):\n",
    "\n",
    "    res = []\n",
    "    visited = [False] * n\n",
    "\n",
    "    DFS(adj,0,visited,res)\n",
    "    \n",
    "    return res"
   ]
  }
 ],
 "metadata": {
  "kernelspec": {
   "display_name": "Python 3",
   "language": "python",
   "name": "python3"
  },
  "language_info": {
   "codemirror_mode": {
    "name": "ipython",
    "version": 3
   },
   "file_extension": ".py",
   "mimetype": "text/x-python",
   "name": "python",
   "nbconvert_exporter": "python",
   "pygments_lexer": "ipython3",
   "version": "3.8.10"
  }
 },
 "nbformat": 4,
 "nbformat_minor": 2
}
